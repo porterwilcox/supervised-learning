{
 "cells": [
  {
   "cell_type": "code",
   "execution_count": null,
   "id": "2642ddbb-35e3-4e91-90e1-dacb2cc6c11d",
   "metadata": {},
   "outputs": [],
   "source": []
  }
 ],
 "metadata": {
  "kernelspec": {
   "display_name": "Supervised Learning Env",
   "language": "python",
   "name": "supervised-learning-env"
  },
  "language_info": {
   "codemirror_mode": {
    "name": "ipython",
    "version": 3
   },
   "file_extension": ".py",
   "mimetype": "text/x-python",
   "name": "python",
   "nbconvert_exporter": "python",
   "pygments_lexer": "ipython3",
   "version": "3.12.4"
  }
 },
 "nbformat": 4,
 "nbformat_minor": 5
}
